{
 "cells": [
  {
   "cell_type": "code",
   "execution_count": 2,
   "id": "bd6f8cc9-7fc9-4c22-bc61-824e0b9911e6",
   "metadata": {},
   "outputs": [],
   "source": [
    "import torch\n",
    "from torch import nn\n",
    "from d2l import torch as d2l"
   ]
  },
  {
   "cell_type": "code",
   "execution_count": 3,
   "id": "0f326031-e5c0-473f-9f10-38197443ecbc",
   "metadata": {},
   "outputs": [],
   "source": [
    "class MLPScratch(d2l.Classifier):\n",
    "    def __init__(self,num_inputs, num_outputs, num_hiddens, lr, sigma=0.01):\n",
    "        super().__init__()\n",
    "        self.save_hyperparameters()\n",
    "        self.W1 = nn.Parameter(torch.randn(num_inputs, num_hiddens) *sigma)\n",
    "        self.b1 = nn.Parameter(torch.zeros(num_hiddens))\n",
    "        \n",
    "        self.W2 = nn.Parameter(torch.randn(num_hiddens,num_outputs)*sigma)\n",
    "        self.b2 = nn.Parameter(torch.zeros(num_outputs))"
   ]
  },
  {
   "cell_type": "code",
   "execution_count": 4,
   "id": "79a69c45-fc63-41ee-bd81-8abd69bd1fc9",
   "metadata": {},
   "outputs": [],
   "source": [
    "def relu(X):\n",
    "    a = torch.zeros_like(X)\n",
    "    return torch.max(X,a)"
   ]
  },
  {
   "cell_type": "code",
   "execution_count": null,
   "id": "454ce286-8d7e-4852-9f08-4dea19d179c3",
   "metadata": {},
   "outputs": [],
   "source": [
    "@d2l.add_to_class(MLPScratch)\n",
    "\n",
    "def forward(self, X):\n",
    "    X = X.reshape((-1,self.num_inputs))\n",
    "    H = relu(torch.matmul(X,self.W1) + self.b1)\n",
    "    return torch.matmul(H,self.W2) + self.b2"
   ]
  },
  {
   "cell_type": "code",
   "execution_count": null,
   "id": "d4057de5-6be1-4e99-88a5-39f950ddf4c5",
   "metadata": {},
   "outputs": [],
   "source": [
    "model = MLPScratch(num_inputs=784, num_outputs=10, num_hiddens=256,lr=.01)\n",
    "data = d2l.FashionMNIST(batch_size=256)\n",
    "trainer = d2l.Trainer(max_epochs=10)\n",
    "trainer.fit(model, data)"
   ]
  },
  {
   "cell_type": "code",
   "execution_count": null,
   "id": "a5b19a53-9f18-467a-9951-57c652b8901f",
   "metadata": {},
   "outputs": [],
   "source": [
    "d2l.predict('https://encrypted-tbn0.gstatic.com/images?q=tbn:ANd9GcTp7o94CQVxy3SWj7Mygbij-o8JZCvZmgChyw&s')"
   ]
  },
  {
   "cell_type": "code",
   "execution_count": null,
   "id": "043e633d-c44d-46d4-ba00-a6b7c9485b0c",
   "metadata": {},
   "outputs": [],
   "source": []
  }
 ],
 "metadata": {
  "kernelspec": {
   "display_name": "Python 3 (ipykernel)",
   "language": "python",
   "name": "python3"
  },
  "language_info": {
   "codemirror_mode": {
    "name": "ipython",
    "version": 3
   },
   "file_extension": ".py",
   "mimetype": "text/x-python",
   "name": "python",
   "nbconvert_exporter": "python",
   "pygments_lexer": "ipython3",
   "version": "3.9.7"
  }
 },
 "nbformat": 4,
 "nbformat_minor": 5
}
