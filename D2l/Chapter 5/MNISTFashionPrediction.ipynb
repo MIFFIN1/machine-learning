{
 "cells": [
  {
   "cell_type": "markdown",
   "id": "2d43758d-c55b-4559-889c-2c28dce2073d",
   "metadata": {},
   "source": [
    "This is the implementation of a simple FashionMNIST classifer model using PyTorch and not d2l"
   ]
  },
  {
   "cell_type": "code",
   "execution_count": 12,
   "id": "bd6f8cc9-7fc9-4c22-bc61-824e0b9911e6",
   "metadata": {},
   "outputs": [],
   "source": [
    "import torch\n",
    "from torch import nn\n",
    "from torch.utils.data import DataLoader\n",
    "from torchvision import datasets\n",
    "from torchvision.transforms import ToTensor"
   ]
  },
  {
   "cell_type": "code",
   "execution_count": 14,
   "id": "8d97d94c-006b-4072-9ecf-874a6688bf56",
   "metadata": {
    "collapsed": true,
    "jupyter": {
     "outputs_hidden": true
    }
   },
   "outputs": [
    {
     "name": "stdout",
     "output_type": "stream",
     "text": [
      "Downloading http://fashion-mnist.s3-website.eu-central-1.amazonaws.com/train-images-idx3-ubyte.gz\n",
      "Downloading http://fashion-mnist.s3-website.eu-central-1.amazonaws.com/train-images-idx3-ubyte.gz to data/FashionMNIST/raw/train-images-idx3-ubyte.gz\n"
     ]
    },
    {
     "name": "stderr",
     "output_type": "stream",
     "text": [
      "100.0%\n"
     ]
    },
    {
     "name": "stdout",
     "output_type": "stream",
     "text": [
      "Extracting data/FashionMNIST/raw/train-images-idx3-ubyte.gz to data/FashionMNIST/raw\n",
      "\n",
      "Downloading http://fashion-mnist.s3-website.eu-central-1.amazonaws.com/train-labels-idx1-ubyte.gz\n",
      "Downloading http://fashion-mnist.s3-website.eu-central-1.amazonaws.com/train-labels-idx1-ubyte.gz to data/FashionMNIST/raw/train-labels-idx1-ubyte.gz\n"
     ]
    },
    {
     "name": "stderr",
     "output_type": "stream",
     "text": [
      "100.0%\n"
     ]
    },
    {
     "name": "stdout",
     "output_type": "stream",
     "text": [
      "Extracting data/FashionMNIST/raw/train-labels-idx1-ubyte.gz to data/FashionMNIST/raw\n",
      "\n",
      "Downloading http://fashion-mnist.s3-website.eu-central-1.amazonaws.com/t10k-images-idx3-ubyte.gz\n",
      "Downloading http://fashion-mnist.s3-website.eu-central-1.amazonaws.com/t10k-images-idx3-ubyte.gz to data/FashionMNIST/raw/t10k-images-idx3-ubyte.gz\n"
     ]
    },
    {
     "name": "stderr",
     "output_type": "stream",
     "text": [
      "100.0%\n"
     ]
    },
    {
     "name": "stdout",
     "output_type": "stream",
     "text": [
      "Extracting data/FashionMNIST/raw/t10k-images-idx3-ubyte.gz to data/FashionMNIST/raw\n",
      "\n",
      "Downloading http://fashion-mnist.s3-website.eu-central-1.amazonaws.com/t10k-labels-idx1-ubyte.gz\n",
      "Downloading http://fashion-mnist.s3-website.eu-central-1.amazonaws.com/t10k-labels-idx1-ubyte.gz to data/FashionMNIST/raw/t10k-labels-idx1-ubyte.gz\n"
     ]
    },
    {
     "name": "stderr",
     "output_type": "stream",
     "text": [
      "100.0%"
     ]
    },
    {
     "name": "stdout",
     "output_type": "stream",
     "text": [
      "Extracting data/FashionMNIST/raw/t10k-labels-idx1-ubyte.gz to data/FashionMNIST/raw\n",
      "\n"
     ]
    },
    {
     "name": "stderr",
     "output_type": "stream",
     "text": [
      "\n"
     ]
    }
   ],
   "source": [
    "train_data = datasets.FashionMNIST(root='data', train=True, download=True, transform= ToTensor(),)\n",
    "test_data = datasets.FashionMNIST(root='data',train=False, download=False, transform= ToTensor(),)"
   ]
  },
  {
   "cell_type": "code",
   "execution_count": 29,
   "id": "0f326031-e5c0-473f-9f10-38197443ecbc",
   "metadata": {},
   "outputs": [],
   "source": [
    "class MLPScratch(nn.Module):\n",
    "    def __init__(self,num_inputs, num_outputs, num_hiddens, lr, sigma=0.01):\n",
    "        super().__init__()\n",
    "        self.num_inputs = num_inputs\n",
    "        self.num_outputs = num_outputs\n",
    "        self.num_hiddens = num_hiddens\n",
    "        \n",
    "\n",
    "        self.W1 = nn.Parameter(torch.randn(num_inputs, num_hiddens) *sigma)\n",
    "        self.b1 = nn.Parameter(torch.zeros(num_hiddens))\n",
    "\n",
    "        self.W2 = nn.Parameter(torch.randn(num_hiddens,num_outputs)*sigma)\n",
    "        self.b2 = nn.Parameter(torch.zeros(num_outputs))\n",
    "    def relu(self,X):\n",
    "        a = torch.zeros_like(X)\n",
    "        return torch.max(X,a)\n",
    "        \n",
    "    def forward(self, X):\n",
    "        X = X.reshape((-1,self.num_inputs))\n",
    "        H = self.relu(torch.matmul(X,self.W1) + self.b1)\n",
    "        return torch.matmul(H,self.W2) + self.b2\n",
    "        \n",
    "    def loss_function(self, y_hat, y):\n",
    "        log_softmax = y_hat - torch.logsumexp(y_hat, dim=1, keepdim=True)\n",
    "        batch_indices = torch.arange(y_hat.size(0))\n",
    "        correct_log_probs = log_softmax[batch_indices, y]\n",
    "        return -correct_log_probs.mean()\n"
   ]
  },
  {
   "cell_type": "code",
   "execution_count": null,
   "id": "5963fb67-7e48-4290-9443-817b997adec1",
   "metadata": {},
   "outputs": [],
   "source": []
  },
  {
   "cell_type": "code",
   "execution_count": 34,
   "id": "ca28a2d0-4e82-42f7-b360-898d9596a8f6",
   "metadata": {},
   "outputs": [
    {
     "name": "stdout",
     "output_type": "stream",
     "text": [
      "Epoch 1, Loss: 1.0450\n",
      "Epoch 2, Loss: 0.6036\n",
      "Epoch 3, Loss: 0.5207\n",
      "Epoch 4, Loss: 0.4792\n",
      "Epoch 5, Loss: 0.4508\n",
      "Epoch 6, Loss: 0.4344\n",
      "Epoch 7, Loss: 0.4184\n",
      "Epoch 8, Loss: 0.4028\n",
      "Epoch 9, Loss: 0.3910\n",
      "Epoch 10, Loss: 0.3812\n",
      "Epoch 11, Loss: 0.3711\n",
      "Epoch 12, Loss: 0.3630\n",
      "Epoch 13, Loss: 0.3587\n",
      "Epoch 14, Loss: 0.3511\n",
      "Epoch 15, Loss: 0.3432\n",
      "Test Accuracy: 0.8621\n"
     ]
    }
   ],
   "source": [
    "batch_size = 256\n",
    "train_loader = DataLoader(train_data, batch_size=batch_size, shuffle=True)\n",
    "test_loader = DataLoader(test_data, batch_size=batch_size)\n",
    "\n",
    "device = 'cpu'\n",
    "model = MLPScratch(784, 10, 256,.01).to(device)\n",
    "optimizer = torch.optim.SGD(model.parameters(), lr=0.1)\n",
    "\n",
    "epochs = 15\n",
    "for epoch in range(epochs):\n",
    "    model.train()\n",
    "    total_loss = 0\n",
    "    for X, y in train_loader:\n",
    "        X, y = X.to(device), y.to(device)\n",
    "        optimizer.zero_grad()\n",
    "        y_hat = model(X)\n",
    "        loss = model.loss_function(y_hat, y)\n",
    "        loss.backward()\n",
    "        optimizer.step()\n",
    "        total_loss += loss.item()\n",
    "    print(f\"Epoch {epoch+1}, Loss: {total_loss/len(train_loader):.4f}\")\n",
    "\n",
    "model.eval()\n",
    "correct = 0\n",
    "total = 0\n",
    "with torch.no_grad():\n",
    "    for X, y in test_loader:\n",
    "        X, y = X.to(device), y.to(device)\n",
    "        logits = model(X)\n",
    "        predictions = torch.argmax(logits, dim=1)\n",
    "        correct += (predictions == y).sum().item()\n",
    "        total += y.size(0)\n",
    "print(f\"Test Accuracy: {correct / total:.4f}\")"
   ]
  },
  {
   "cell_type": "code",
   "execution_count": 35,
   "id": "8ac2a12d-f20a-482b-8119-237659f9aab7",
   "metadata": {},
   "outputs": [],
   "source": [
    "def predict(model, image):\n",
    "    model.eval()\n",
    "    with torch.no_grad():\n",
    "        image = image.to(device).unsqueeze(0)  # Add batch dimension\n",
    "        output = model(image)\n",
    "        return torch.softmax(output, dim=1).item()\n",
    "    "
   ]
  },
  {
   "cell_type": "code",
   "execution_count": 31,
   "id": "0c44e1e1-475c-4f64-b787-fb68e8dd9bca",
   "metadata": {},
   "outputs": [
    {
     "ename": "SyntaxError",
     "evalue": "unexpected EOF while parsing (936112332.py, line 1)",
     "output_type": "error",
     "traceback": [
      "\u001b[0;36m  Cell \u001b[0;32mIn[31], line 1\u001b[0;36m\u001b[0m\n\u001b[0;31m    predict(model,\u001b[0m\n\u001b[0m                  ^\u001b[0m\n\u001b[0;31mSyntaxError\u001b[0m\u001b[0;31m:\u001b[0m unexpected EOF while parsing\n"
     ]
    }
   ],
   "source": []
  },
  {
   "cell_type": "code",
   "execution_count": null,
   "id": "8344cf1f-3c67-476b-a638-5a8aef9469dd",
   "metadata": {},
   "outputs": [],
   "source": []
  }
 ],
 "metadata": {
  "kernelspec": {
   "display_name": "Python 3 (ipykernel)",
   "language": "python",
   "name": "python3"
  },
  "language_info": {
   "codemirror_mode": {
    "name": "ipython",
    "version": 3
   },
   "file_extension": ".py",
   "mimetype": "text/x-python",
   "name": "python",
   "nbconvert_exporter": "python",
   "pygments_lexer": "ipython3",
   "version": "3.9.7"
  }
 },
 "nbformat": 4,
 "nbformat_minor": 5
}
