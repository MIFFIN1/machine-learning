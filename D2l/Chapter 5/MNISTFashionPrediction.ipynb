{
 "cells": [
  {
   "cell_type": "markdown",
   "id": "2d43758d-c55b-4559-889c-2c28dce2073d",
   "metadata": {},
   "source": [
    "This is the implementation of a simple FashionMNIST classifer model using PyTorch and not d2l"
   ]
  },
  {
   "cell_type": "code",
   "execution_count": 12,
   "id": "bd6f8cc9-7fc9-4c22-bc61-824e0b9911e6",
   "metadata": {},
   "outputs": [],
   "source": [
    "import torch\n",
    "from torch import nn\n",
    "from torch.utils.data import DataLoader\n",
    "from torchvision import datasets\n",
    "from torchvision.transforms import ToTensor"
   ]
  },
  {
   "cell_type": "code",
   "execution_count": 14,
   "id": "8d97d94c-006b-4072-9ecf-874a6688bf56",
   "metadata": {
    "collapsed": true,
    "jupyter": {
     "outputs_hidden": true
    }
   },
   "outputs": [
    {
     "name": "stdout",
     "output_type": "stream",
     "text": [
      "Downloading http://fashion-mnist.s3-website.eu-central-1.amazonaws.com/train-images-idx3-ubyte.gz\n",
      "Downloading http://fashion-mnist.s3-website.eu-central-1.amazonaws.com/train-images-idx3-ubyte.gz to data/FashionMNIST/raw/train-images-idx3-ubyte.gz\n"
     ]
    },
    {
     "name": "stderr",
     "output_type": "stream",
     "text": [
      "100.0%\n"
     ]
    },
    {
     "name": "stdout",
     "output_type": "stream",
     "text": [
      "Extracting data/FashionMNIST/raw/train-images-idx3-ubyte.gz to data/FashionMNIST/raw\n",
      "\n",
      "Downloading http://fashion-mnist.s3-website.eu-central-1.amazonaws.com/train-labels-idx1-ubyte.gz\n",
      "Downloading http://fashion-mnist.s3-website.eu-central-1.amazonaws.com/train-labels-idx1-ubyte.gz to data/FashionMNIST/raw/train-labels-idx1-ubyte.gz\n"
     ]
    },
    {
     "name": "stderr",
     "output_type": "stream",
     "text": [
      "100.0%\n"
     ]
    },
    {
     "name": "stdout",
     "output_type": "stream",
     "text": [
      "Extracting data/FashionMNIST/raw/train-labels-idx1-ubyte.gz to data/FashionMNIST/raw\n",
      "\n",
      "Downloading http://fashion-mnist.s3-website.eu-central-1.amazonaws.com/t10k-images-idx3-ubyte.gz\n",
      "Downloading http://fashion-mnist.s3-website.eu-central-1.amazonaws.com/t10k-images-idx3-ubyte.gz to data/FashionMNIST/raw/t10k-images-idx3-ubyte.gz\n"
     ]
    },
    {
     "name": "stderr",
     "output_type": "stream",
     "text": [
      "100.0%\n"
     ]
    },
    {
     "name": "stdout",
     "output_type": "stream",
     "text": [
      "Extracting data/FashionMNIST/raw/t10k-images-idx3-ubyte.gz to data/FashionMNIST/raw\n",
      "\n",
      "Downloading http://fashion-mnist.s3-website.eu-central-1.amazonaws.com/t10k-labels-idx1-ubyte.gz\n",
      "Downloading http://fashion-mnist.s3-website.eu-central-1.amazonaws.com/t10k-labels-idx1-ubyte.gz to data/FashionMNIST/raw/t10k-labels-idx1-ubyte.gz\n"
     ]
    },
    {
     "name": "stderr",
     "output_type": "stream",
     "text": [
      "100.0%"
     ]
    },
    {
     "name": "stdout",
     "output_type": "stream",
     "text": [
      "Extracting data/FashionMNIST/raw/t10k-labels-idx1-ubyte.gz to data/FashionMNIST/raw\n",
      "\n"
     ]
    },
    {
     "name": "stderr",
     "output_type": "stream",
     "text": [
      "\n"
     ]
    }
   ],
   "source": [
    "train_data = datasets.FashionMNIST(root='data', train=True, download=True, transform= ToTensor(),)\n",
    "test_data = datasets.FashionMNIST(root='data',train=False, download=False, transform= ToTensor(),)"
   ]
  },
  {
   "cell_type": "code",
   "execution_count": 29,
   "id": "0f326031-e5c0-473f-9f10-38197443ecbc",
   "metadata": {},
   "outputs": [],
   "source": [
    "class MLPScratch(nn.Module):\n",
    "    def __init__(self,num_inputs, num_outputs, num_hiddens, lr, sigma=0.01):\n",
    "        super().__init__()\n",
    "        self.num_inputs = num_inputs\n",
    "        self.num_outputs = num_outputs\n",
    "        self.num_hiddens = num_hiddens\n",
    "        \n",
    "\n",
    "        self.W1 = nn.Parameter(torch.randn(num_inputs, num_hiddens) *sigma)\n",
    "        self.b1 = nn.Parameter(torch.zeros(num_hiddens))\n",
    "\n",
    "        self.W2 = nn.Parameter(torch.randn(num_hiddens,num_outputs)*sigma)\n",
    "        self.b2 = nn.Parameter(torch.zeros(num_outputs))\n",
    "        \n",
    "    def relu(self,X):\n",
    "        a = torch.zeros_like(X)\n",
    "        return torch.max(X,a)\n",
    "        \n",
    "    def forward(self, X):\n",
    "        X = X.reshape((-1,self.num_inputs))\n",
    "        H = self.relu(torch.matmul(X,self.W1) + self.b1)\n",
    "        return torch.matmul(H,self.W2) + self.b2\n",
    "        \n",
    "    def loss_function(self, y_hat, y):\n",
    "        log_softmax = y_hat - torch.logsumexp(y_hat, dim=1, keepdim=True)\n",
    "        batch_indices = torch.arange(y_hat.size(0))\n",
    "        correct_log_probs = log_softmax[batch_indices, y]\n",
    "        return -correct_log_probs.mean()\n"
   ]
  },
  {
   "cell_type": "code",
   "execution_count": null,
   "id": "5963fb67-7e48-4290-9443-817b997adec1",
   "metadata": {},
   "outputs": [],
   "source": []
  },
  {
   "cell_type": "code",
   "execution_count": 44,
   "id": "ca28a2d0-4e82-42f7-b360-898d9596a8f6",
   "metadata": {},
   "outputs": [
    {
     "name": "stdout",
     "output_type": "stream",
     "text": [
      "Epoch 1, Loss: 1.0367\n",
      "Epoch 2, Loss: 0.6028\n",
      "Epoch 3, Loss: 0.5224\n",
      "Epoch 4, Loss: 0.4796\n",
      "Epoch 5, Loss: 0.4549\n",
      "Epoch 6, Loss: 0.4364\n",
      "Epoch 7, Loss: 0.4166\n",
      "Epoch 8, Loss: 0.4064\n",
      "Epoch 9, Loss: 0.3931\n",
      "Epoch 10, Loss: 0.3827\n",
      "Epoch 11, Loss: 0.3732\n",
      "Epoch 12, Loss: 0.3683\n",
      "Epoch 13, Loss: 0.3613\n",
      "Epoch 14, Loss: 0.3538\n",
      "Epoch 15, Loss: 0.3462\n",
      "Epoch 16, Loss: 0.3410\n",
      "Epoch 17, Loss: 0.3378\n",
      "Epoch 18, Loss: 0.3291\n",
      "Epoch 19, Loss: 0.3267\n",
      "Epoch 20, Loss: 0.3219\n",
      "Epoch 21, Loss: 0.3175\n",
      "Epoch 22, Loss: 0.3146\n",
      "Epoch 23, Loss: 0.3100\n",
      "Epoch 24, Loss: 0.3057\n",
      "Epoch 25, Loss: 0.3013\n",
      "Epoch 26, Loss: 0.2971\n",
      "Epoch 27, Loss: 0.2950\n",
      "Epoch 28, Loss: 0.2923\n",
      "Epoch 29, Loss: 0.2875\n",
      "Epoch 30, Loss: 0.2847\n",
      "Epoch 31, Loss: 0.2815\n",
      "Epoch 32, Loss: 0.2795\n",
      "Epoch 33, Loss: 0.2744\n",
      "Epoch 34, Loss: 0.2742\n",
      "Epoch 35, Loss: 0.2698\n",
      "Epoch 36, Loss: 0.2667\n",
      "Epoch 37, Loss: 0.2651\n",
      "Epoch 38, Loss: 0.2634\n",
      "Epoch 39, Loss: 0.2610\n",
      "Epoch 40, Loss: 0.2566\n",
      "Epoch 41, Loss: 0.2554\n",
      "Epoch 42, Loss: 0.2533\n",
      "Epoch 43, Loss: 0.2500\n",
      "Epoch 44, Loss: 0.2493\n",
      "Epoch 45, Loss: 0.2442\n",
      "Epoch 46, Loss: 0.2448\n",
      "Epoch 47, Loss: 0.2402\n",
      "Epoch 48, Loss: 0.2388\n",
      "Epoch 49, Loss: 0.2374\n",
      "Epoch 50, Loss: 0.2338\n",
      "Epoch 51, Loss: 0.2334\n",
      "Epoch 52, Loss: 0.2329\n",
      "Epoch 53, Loss: 0.2286\n",
      "Epoch 54, Loss: 0.2271\n",
      "Epoch 55, Loss: 0.2245\n",
      "Epoch 56, Loss: 0.2238\n",
      "Epoch 57, Loss: 0.2204\n",
      "Epoch 58, Loss: 0.2189\n",
      "Epoch 59, Loss: 0.2183\n",
      "Epoch 60, Loss: 0.2167\n",
      "Epoch 61, Loss: 0.2138\n",
      "Epoch 62, Loss: 0.2123\n",
      "Epoch 63, Loss: 0.2116\n",
      "Epoch 64, Loss: 0.2078\n",
      "Epoch 65, Loss: 0.2078\n",
      "Epoch 66, Loss: 0.2051\n",
      "Epoch 67, Loss: 0.2043\n",
      "Epoch 68, Loss: 0.2028\n",
      "Epoch 69, Loss: 0.2034\n",
      "Epoch 70, Loss: 0.2008\n",
      "Epoch 71, Loss: 0.1983\n",
      "Epoch 72, Loss: 0.1959\n",
      "Epoch 73, Loss: 0.1943\n",
      "Epoch 74, Loss: 0.1916\n",
      "Epoch 75, Loss: 0.1911\n",
      "Epoch 76, Loss: 0.1898\n",
      "Epoch 77, Loss: 0.1875\n",
      "Epoch 78, Loss: 0.1880\n",
      "Epoch 79, Loss: 0.1866\n",
      "Epoch 80, Loss: 0.1844\n",
      "Epoch 81, Loss: 0.1823\n",
      "Epoch 82, Loss: 0.1827\n",
      "Epoch 83, Loss: 0.1808\n",
      "Epoch 84, Loss: 0.1797\n",
      "Epoch 85, Loss: 0.1740\n",
      "Epoch 86, Loss: 0.1761\n",
      "Epoch 87, Loss: 0.1725\n",
      "Epoch 88, Loss: 0.1709\n",
      "Epoch 89, Loss: 0.1733\n",
      "Epoch 90, Loss: 0.1690\n",
      "Epoch 91, Loss: 0.1699\n",
      "Epoch 92, Loss: 0.1683\n",
      "Epoch 93, Loss: 0.1668\n",
      "Epoch 94, Loss: 0.1652\n",
      "Epoch 95, Loss: 0.1653\n",
      "Epoch 96, Loss: 0.1630\n",
      "Epoch 97, Loss: 0.1602\n",
      "Epoch 98, Loss: 0.1625\n",
      "Epoch 99, Loss: 0.1586\n",
      "Epoch 100, Loss: 0.1562\n",
      "Test Accuracy: 0.8876\n"
     ]
    }
   ],
   "source": [
    "batch_size = 10,000\n",
    "train_loader = DataLoader(train_data, batch_size=batch_size, shuffle=True)\n",
    "test_loader = DataLoader(test_data, batch_size=batch_size)\n",
    "\n",
    "device = 'cpu'\n",
    "model = MLPScratch(784, 10, 256,.01).to(device)\n",
    "optimizer = torch.optim.SGD(model.parameters(), lr=0.1)\n",
    "\n",
    "epochs = 70\n",
    "for epoch in range(epochs):\n",
    "    model.train()\n",
    "    total_loss = 0\n",
    "    for X, y in train_loader:\n",
    "        X, y = X.to(device), y.to(device)\n",
    "        optimizer.zero_grad()\n",
    "        y_hat = model(X)\n",
    "        loss = model.loss_function(y_hat, y)\n",
    "        loss.backward()\n",
    "        optimizer.step()\n",
    "        total_loss += loss.item()\n",
    "    print(f\"Epoch {epoch+1}, Loss: {total_loss/len(train_loader):.4f}\")\n",
    "\n",
    "model.eval()\n",
    "correct = 0\n",
    "total = 0\n",
    "with torch.no_grad():\n",
    "    for X, y in test_loader:\n",
    "        X, y = X.to(device), y.to(device)\n",
    "        logits = model(X)\n",
    "        predictions = torch.argmax(logits, dim=1)\n",
    "        correct += (predictions == y).sum().item()\n",
    "        total += y.size(0)\n",
    "print(f\"Test Accuracy: {correct / total:.4f}\")"
   ]
  },
  {
   "cell_type": "code",
   "execution_count": 35,
   "id": "8ac2a12d-f20a-482b-8119-237659f9aab7",
   "metadata": {},
   "outputs": [],
   "source": [
    "def predict(model, image):\n",
    "    model.eval()\n",
    "    with torch.no_grad():\n",
    "        image = image.to(device).unsqueeze(0)\n",
    "        output = model(image)\n",
    "        return torch.softmax(output, dim=1).item()\n",
    "    "
   ]
  },
  {
   "cell_type": "code",
   "execution_count": 31,
   "id": "0c44e1e1-475c-4f64-b787-fb68e8dd9bca",
   "metadata": {},
   "outputs": [
    {
     "ename": "SyntaxError",
     "evalue": "unexpected EOF while parsing (936112332.py, line 1)",
     "output_type": "error",
     "traceback": [
      "\u001b[0;36m  Cell \u001b[0;32mIn[31], line 1\u001b[0;36m\u001b[0m\n\u001b[0;31m    predict(model,\u001b[0m\n\u001b[0m                  ^\u001b[0m\n\u001b[0;31mSyntaxError\u001b[0m\u001b[0;31m:\u001b[0m unexpected EOF while parsing\n"
     ]
    }
   ],
   "source": []
  },
  {
   "cell_type": "code",
   "execution_count": null,
   "id": "8344cf1f-3c67-476b-a638-5a8aef9469dd",
   "metadata": {},
   "outputs": [],
   "source": []
  }
 ],
 "metadata": {
  "kernelspec": {
   "display_name": "Python 3 (ipykernel)",
   "language": "python",
   "name": "python3"
  },
  "language_info": {
   "codemirror_mode": {
    "name": "ipython",
    "version": 3
   },
   "file_extension": ".py",
   "mimetype": "text/x-python",
   "name": "python",
   "nbconvert_exporter": "python",
   "pygments_lexer": "ipython3",
   "version": "3.9.7"
  }
 },
 "nbformat": 4,
 "nbformat_minor": 5
}
