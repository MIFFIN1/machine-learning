{
 "cells": [
  {
   "cell_type": "code",
   "execution_count": 2,
   "id": "11bf1706-6c23-4994-a358-4afa6dbc9e0a",
   "metadata": {},
   "outputs": [],
   "source": [
    "import torch\n",
    "import torch.nn as nn\n",
    "import torch.optim as optim\n",
    "import numpy as np\n",
    "import matplotlib.pyplot as plt"
   ]
  },
  {
   "cell_type": "code",
   "execution_count": null,
   "id": "cc0f2207-3528-46bd-b91b-37fbc5cc5b30",
   "metadata": {},
   "outputs": [],
   "source": [
    "X = np.array([x for x in range(100)])\n",
    "X = X.reshape(-1,1)\n",
    "\n",
    "Y = 46 + 2*X.flatten()"
   ]
  }
 ],
 "metadata": {
  "kernelspec": {
   "display_name": "Python 3 (ipykernel)",
   "language": "python",
   "name": "python3"
  },
  "language_info": {
   "codemirror_mode": {
    "name": "ipython",
    "version": 3
   },
   "file_extension": ".py",
   "mimetype": "text/x-python",
   "name": "python",
   "nbconvert_exporter": "python",
   "pygments_lexer": "ipython3",
   "version": "3.9.7"
  }
 },
 "nbformat": 4,
 "nbformat_minor": 5
}
